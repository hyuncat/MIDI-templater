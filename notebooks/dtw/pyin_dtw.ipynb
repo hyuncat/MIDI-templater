{
 "cells": [
  {
   "cell_type": "code",
   "execution_count": 3,
   "metadata": {},
   "outputs": [],
   "source": [
    "%load_ext autoreload\n",
    "%autoreload 2"
   ]
  },
  {
   "cell_type": "code",
   "execution_count": 2,
   "metadata": {},
   "outputs": [
    {
     "name": "stdout",
     "output_type": "stream",
     "text": [
      "Importing the dtw module. When using in academic works please cite:\n",
      "  T. Giorgino. Computing and Visualizing Dynamic Time Warping Alignments in R: The dtw Package.\n",
      "  J. Stat. Soft., doi:10.18637/jss.v031.i07.\n",
      "\n"
     ]
    }
   ],
   "source": [
    "import sys\n",
    "sys.path.append('../..')\n",
    "\n",
    "from app.modules.audio.AudioData import AudioData\n",
    "from app.modules.audio.AudioPlayer import AudioPlayer\n",
    "from app.modules.midi.MidiData import MidiData\n",
    "from app.modules.midi.MidiPlayer import MidiPlayer\n",
    "from app.modules.midi.MidiSynth import MidiSynth\n",
    "\n",
    "from app.modules.pitch.pda.PYin import PYin\n",
    "from app.modules.pitch.Onsets import Onsets\n",
    "from app.config import AppConfig\n",
    "from app.modules.dtw.DTW import CQT, DTW"
   ]
  },
  {
   "cell_type": "code",
   "execution_count": 5,
   "metadata": {},
   "outputs": [
    {
     "name": "stdout",
     "output_type": "stream",
     "text": [
      "Processing frame 4604/4604\n",
      "Done!\n"
     ]
    }
   ],
   "source": [
    "AUDIO_FILEPATH = '../../app/resources/audio/user_fugue2.mp3'\n",
    "MIN_VIOLIN_FREQ = 196.0\n",
    "SAMPLE_RATE = 44100\n",
    "\n",
    "audio_data = AudioData()\n",
    "audio_data.load_data(AUDIO_FILEPATH)\n",
    "pitches, most_likely_pitches = PYin.pyin(audio_data.data)"
   ]
  },
  {
   "cell_type": "code",
   "execution_count": 10,
   "metadata": {},
   "outputs": [
    {
     "name": "stdout",
     "output_type": "stream",
     "text": [
      "Loading MidiSynth...\n",
      "Synth + soundfont loaded.\n"
     ]
    }
   ],
   "source": [
    "# Create a synth with a soundfont\n",
    "SOUNDFONT_FILEPATH = '../../app/resources/MuseScore_General.sf3'\n",
    "midi_synth = MidiSynth(SOUNDFONT_FILEPATH)\n",
    "\n",
    "# Load the midi file into a MidiData object\n",
    "MIDI_FILEPATH = '../../app/resources/midi/fugue.mid'\n",
    "midi_data = MidiData(MIDI_FILEPATH)\n",
    "\n",
    "# Create MidiSynth/Player objects\n",
    "midi_player = MidiPlayer(midi_synth)\n",
    "midi_player.load_midi(midi_data)\n",
    "\n",
    "# midi_player.play(start_time=0) # Play the MIDI"
   ]
  },
  {
   "cell_type": "markdown",
   "metadata": {},
   "source": [
    "## Sanity check: Plot pitches"
   ]
  },
  {
   "cell_type": "code",
   "execution_count": 6,
   "metadata": {},
   "outputs": [
    {
     "name": "stdout",
     "output_type": "stream",
     "text": [
      "Plotting pitches...\n",
      "Done!\n"
     ]
    }
   ],
   "source": [
    "# View the pitch estimates in the app\n",
    "import sys\n",
    "sys.path.append('..')\n",
    "\n",
    "from app.ui.plots.PitchPlot import RunPitchPlot\n",
    "from app.modules.midi.MidiData import MidiData\n",
    "from PyQt6.QtWidgets import QApplication\n",
    "from PyQt6.QtCore import QCoreApplication\n",
    "\n",
    "\n",
    "if __name__ == '__main__':\n",
    "    if not QCoreApplication.instance():\n",
    "        app = QApplication(sys.argv)\n",
    "    else:\n",
    "        app = QCoreApplication.instance()\n",
    "\n",
    "    MIDI_FILEPATH = '../../app/resources/midi/fugue.mid'\n",
    "    midi_data = MidiData(MIDI_FILEPATH)\n",
    "\n",
    "    pitchplot = RunPitchPlot(\n",
    "        app, midi_data=midi_data, pitches=pitches\n",
    "    )"
   ]
  },
  {
   "cell_type": "markdown",
   "metadata": {},
   "source": [
    "### Compute Onset Data\n",
    "We compute `onset_times` with Essentia's 'complex' onset detection which works better for non-percussive detection (eg, music signals). Analyzes the spectrum of the audio and searches for timbrally-percussive spectra (probably). Catches note changes which are the same pitch.\n",
    "\n",
    "We compute `note_df` based off different-enough pitch changes using a rolling median window. Tries to catch note changes which may have less percussiveness (eg, slurred notes).\n",
    "\n",
    "We combine them into `onset_df` to capture as many types of note changes as we can, mergining those onsets within `combine_threshold` sec tolerance into the same row of the dataframe, to be considered the same onset for warping purposes."
   ]
  },
  {
   "cell_type": "code",
   "execution_count": 6,
   "metadata": {},
   "outputs": [
    {
     "name": "stdout",
     "output_type": "stream",
     "text": [
      "Detecting onsets... Done!\n",
      "Segmenting notes with window_size=15 and threshold=0.4... Done!\n"
     ]
    },
    {
     "data": {
      "text/html": [
       "<div>\n",
       "<style scoped>\n",
       "    .dataframe tbody tr th:only-of-type {\n",
       "        vertical-align: middle;\n",
       "    }\n",
       "\n",
       "    .dataframe tbody tr th {\n",
       "        vertical-align: top;\n",
       "    }\n",
       "\n",
       "    .dataframe thead th {\n",
       "        text-align: right;\n",
       "    }\n",
       "</style>\n",
       "<table border=\"1\" class=\"dataframe\">\n",
       "  <thead>\n",
       "    <tr style=\"text-align: right;\">\n",
       "      <th></th>\n",
       "      <th>time</th>\n",
       "      <th>pitch_diff</th>\n",
       "      <th>onset</th>\n",
       "    </tr>\n",
       "  </thead>\n",
       "  <tbody>\n",
       "    <tr>\n",
       "      <th>0</th>\n",
       "      <td>0.000000</td>\n",
       "      <td>True</td>\n",
       "      <td>False</td>\n",
       "    </tr>\n",
       "    <tr>\n",
       "      <th>1</th>\n",
       "      <td>0.011610</td>\n",
       "      <td>False</td>\n",
       "      <td>True</td>\n",
       "    </tr>\n",
       "    <tr>\n",
       "      <th>2</th>\n",
       "      <td>0.232200</td>\n",
       "      <td>False</td>\n",
       "      <td>True</td>\n",
       "    </tr>\n",
       "    <tr>\n",
       "      <th>3</th>\n",
       "      <td>0.296054</td>\n",
       "      <td>True</td>\n",
       "      <td>False</td>\n",
       "    </tr>\n",
       "    <tr>\n",
       "      <th>4</th>\n",
       "      <td>0.464399</td>\n",
       "      <td>False</td>\n",
       "      <td>True</td>\n",
       "    </tr>\n",
       "    <tr>\n",
       "      <th>...</th>\n",
       "      <td>...</td>\n",
       "      <td>...</td>\n",
       "      <td>...</td>\n",
       "    </tr>\n",
       "    <tr>\n",
       "      <th>128</th>\n",
       "      <td>12.585216</td>\n",
       "      <td>False</td>\n",
       "      <td>True</td>\n",
       "    </tr>\n",
       "    <tr>\n",
       "      <th>129</th>\n",
       "      <td>12.704218</td>\n",
       "      <td>True</td>\n",
       "      <td>False</td>\n",
       "    </tr>\n",
       "    <tr>\n",
       "      <th>130</th>\n",
       "      <td>12.759365</td>\n",
       "      <td>False</td>\n",
       "      <td>True</td>\n",
       "    </tr>\n",
       "    <tr>\n",
       "      <th>131</th>\n",
       "      <td>12.910295</td>\n",
       "      <td>False</td>\n",
       "      <td>True</td>\n",
       "    </tr>\n",
       "    <tr>\n",
       "      <th>132</th>\n",
       "      <td>13.017687</td>\n",
       "      <td>True</td>\n",
       "      <td>True</td>\n",
       "    </tr>\n",
       "  </tbody>\n",
       "</table>\n",
       "<p>133 rows × 3 columns</p>\n",
       "</div>"
      ],
      "text/plain": [
       "          time  pitch_diff  onset\n",
       "0     0.000000        True  False\n",
       "1     0.011610       False   True\n",
       "2     0.232200       False   True\n",
       "3     0.296054        True  False\n",
       "4     0.464399       False   True\n",
       "..         ...         ...    ...\n",
       "128  12.585216       False   True\n",
       "129  12.704218        True  False\n",
       "130  12.759365       False   True\n",
       "131  12.910295       False   True\n",
       "132  13.017687        True   True\n",
       "\n",
       "[133 rows x 3 columns]"
      ]
     },
     "execution_count": 6,
     "metadata": {},
     "output_type": "execute_result"
    }
   ],
   "source": [
    "os = Onsets()\n",
    "onset_times = os.detect_onsets(audio_data)\n",
    "note_df = os.detect_pitch_changes(most_likely_pitches, window_size=15, threshold=0.4)\n",
    "onset_df = os.combine_onsets(onset_times=onset_times, \n",
    "                             note_df=note_df, \n",
    "                             combine_threshold=0.01)\n",
    "\n",
    "# View the combined onset_df based on both onsets and pitch differences\n",
    "onset_df"
   ]
  },
  {
   "cell_type": "code",
   "execution_count": 9,
   "metadata": {},
   "outputs": [
    {
     "data": {
      "text/html": [
       "<div>\n",
       "<style scoped>\n",
       "    .dataframe tbody tr th:only-of-type {\n",
       "        vertical-align: middle;\n",
       "    }\n",
       "\n",
       "    .dataframe tbody tr th {\n",
       "        vertical-align: top;\n",
       "    }\n",
       "\n",
       "    .dataframe thead th {\n",
       "        text-align: right;\n",
       "    }\n",
       "</style>\n",
       "<table border=\"1\" class=\"dataframe\">\n",
       "  <thead>\n",
       "    <tr style=\"text-align: right;\">\n",
       "      <th></th>\n",
       "      <th>time</th>\n",
       "      <th>pitch_diff</th>\n",
       "      <th>onset</th>\n",
       "      <th>cqt_norm</th>\n",
       "    </tr>\n",
       "  </thead>\n",
       "  <tbody>\n",
       "    <tr>\n",
       "      <th>0</th>\n",
       "      <td>0.000000</td>\n",
       "      <td>True</td>\n",
       "      <td>False</td>\n",
       "      <td>[-0.080838166, -0.0668917, -0.064405546, -0.05...</td>\n",
       "    </tr>\n",
       "    <tr>\n",
       "      <th>1</th>\n",
       "      <td>0.011610</td>\n",
       "      <td>False</td>\n",
       "      <td>True</td>\n",
       "      <td>[-0.09454665, -0.093443535, -0.0933609, -0.088...</td>\n",
       "    </tr>\n",
       "    <tr>\n",
       "      <th>2</th>\n",
       "      <td>0.232200</td>\n",
       "      <td>False</td>\n",
       "      <td>True</td>\n",
       "      <td>[-0.081852324, -0.07638682, -0.07203554, -0.06...</td>\n",
       "    </tr>\n",
       "    <tr>\n",
       "      <th>3</th>\n",
       "      <td>0.296054</td>\n",
       "      <td>True</td>\n",
       "      <td>False</td>\n",
       "      <td>[-0.11152571, -0.10601042, -0.10273066, -0.098...</td>\n",
       "    </tr>\n",
       "    <tr>\n",
       "      <th>4</th>\n",
       "      <td>0.464399</td>\n",
       "      <td>False</td>\n",
       "      <td>True</td>\n",
       "      <td>[-0.22583568, -0.14463839, -0.12643395, -0.124...</td>\n",
       "    </tr>\n",
       "    <tr>\n",
       "      <th>...</th>\n",
       "      <td>...</td>\n",
       "      <td>...</td>\n",
       "      <td>...</td>\n",
       "      <td>...</td>\n",
       "    </tr>\n",
       "    <tr>\n",
       "      <th>128</th>\n",
       "      <td>12.585216</td>\n",
       "      <td>False</td>\n",
       "      <td>True</td>\n",
       "      <td>[-0.10679642, -0.10286422, -0.10027398, -0.095...</td>\n",
       "    </tr>\n",
       "    <tr>\n",
       "      <th>129</th>\n",
       "      <td>12.704218</td>\n",
       "      <td>True</td>\n",
       "      <td>False</td>\n",
       "      <td>[-0.12708835, -0.12495376, -0.12868106, -0.132...</td>\n",
       "    </tr>\n",
       "    <tr>\n",
       "      <th>130</th>\n",
       "      <td>12.759365</td>\n",
       "      <td>False</td>\n",
       "      <td>True</td>\n",
       "      <td>[-0.13078195, -0.11990827, -0.119574085, -0.11...</td>\n",
       "    </tr>\n",
       "    <tr>\n",
       "      <th>131</th>\n",
       "      <td>12.910295</td>\n",
       "      <td>False</td>\n",
       "      <td>True</td>\n",
       "      <td>[-0.090926185, -0.089150496, -0.08656771, -0.0...</td>\n",
       "    </tr>\n",
       "    <tr>\n",
       "      <th>132</th>\n",
       "      <td>13.017687</td>\n",
       "      <td>True</td>\n",
       "      <td>True</td>\n",
       "      <td>[-0.10825009, -0.10940189, -0.10750987, -0.104...</td>\n",
       "    </tr>\n",
       "  </tbody>\n",
       "</table>\n",
       "<p>133 rows × 4 columns</p>\n",
       "</div>"
      ],
      "text/plain": [
       "          time  pitch_diff  onset  \\\n",
       "0     0.000000        True  False   \n",
       "1     0.011610       False   True   \n",
       "2     0.232200       False   True   \n",
       "3     0.296054        True  False   \n",
       "4     0.464399       False   True   \n",
       "..         ...         ...    ...   \n",
       "128  12.585216       False   True   \n",
       "129  12.704218        True  False   \n",
       "130  12.759365       False   True   \n",
       "131  12.910295       False   True   \n",
       "132  13.017687        True   True   \n",
       "\n",
       "                                              cqt_norm  \n",
       "0    [-0.080838166, -0.0668917, -0.064405546, -0.05...  \n",
       "1    [-0.09454665, -0.093443535, -0.0933609, -0.088...  \n",
       "2    [-0.081852324, -0.07638682, -0.07203554, -0.06...  \n",
       "3    [-0.11152571, -0.10601042, -0.10273066, -0.098...  \n",
       "4    [-0.22583568, -0.14463839, -0.12643395, -0.124...  \n",
       "..                                                 ...  \n",
       "128  [-0.10679642, -0.10286422, -0.10027398, -0.095...  \n",
       "129  [-0.12708835, -0.12495376, -0.12868106, -0.132...  \n",
       "130  [-0.13078195, -0.11990827, -0.119574085, -0.11...  \n",
       "131  [-0.090926185, -0.089150496, -0.08656771, -0.0...  \n",
       "132  [-0.10825009, -0.10940189, -0.10750987, -0.104...  \n",
       "\n",
       "[133 rows x 4 columns]"
      ]
     },
     "execution_count": 9,
     "metadata": {},
     "output_type": "execute_result"
    }
   ],
   "source": [
    "cqt_onset_df = DTW.cqt_onset_df(audio_data.data, onset_df)\n",
    "\n",
    "cqt_onset_df"
   ]
  },
  {
   "cell_type": "code",
   "execution_count": null,
   "metadata": {},
   "outputs": [],
   "source": []
  }
 ],
 "metadata": {
  "kernelspec": {
   "display_name": "midi-venv",
   "language": "python",
   "name": "python3"
  },
  "language_info": {
   "codemirror_mode": {
    "name": "ipython",
    "version": 3
   },
   "file_extension": ".py",
   "mimetype": "text/x-python",
   "name": "python",
   "nbconvert_exporter": "python",
   "pygments_lexer": "ipython3",
   "version": "3.12.3"
  }
 },
 "nbformat": 4,
 "nbformat_minor": 2
}
