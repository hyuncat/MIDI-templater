{
 "cells": [
  {
   "cell_type": "code",
   "execution_count": 1,
   "metadata": {},
   "outputs": [],
   "source": [
    "%load_ext autoreload\n",
    "%autoreload 2"
   ]
  },
  {
   "cell_type": "code",
   "execution_count": 2,
   "metadata": {},
   "outputs": [],
   "source": [
    "from scripts.midi2.MidiData import MidiData\n",
    "from scripts.midi2.MidiSynth import MidiSynth\n",
    "from scripts.midi2.MidiPlayer import MidiPlayer"
   ]
  },
  {
   "cell_type": "markdown",
   "metadata": {},
   "source": [
    "## MidiData test"
   ]
  },
  {
   "cell_type": "code",
   "execution_count": 3,
   "metadata": {},
   "outputs": [],
   "source": [
    "# To inspect how MIDI file is currently parsed\n",
    "MIDI_FILEPATH = 'data/midi_files/fast_fugue_midi.mid'\n",
    "midi_data = MidiData(MIDI_FILEPATH)\n",
    "\n",
    "# Initialize a MidiSynth + MidiPlayer with a given soundfont\n",
    "SOUNDFONT = 'data/MuseScore_General.sf3'\n",
    "midi_synth = MidiSynth(soundfont_path=SOUNDFONT)\n",
    "midi_player = MidiPlayer(midi_synth)\n",
    "\n",
    "# Play a given midi file\n",
    "MIDI_FILEPATH = 'data/midi_files/fast_fugue_midi.mid'\n",
    "midi_player.load_midi(MIDI_FILEPATH)\n",
    "midi_player.play(start_time=0)"
   ]
  },
  {
   "cell_type": "code",
   "execution_count": null,
   "metadata": {},
   "outputs": [],
   "source": []
  }
 ],
 "metadata": {
  "kernelspec": {
   "display_name": "dtw-venv",
   "language": "python",
   "name": "python3"
  },
  "language_info": {
   "codemirror_mode": {
    "name": "ipython",
    "version": 3
   },
   "file_extension": ".py",
   "mimetype": "text/x-python",
   "name": "python",
   "nbconvert_exporter": "python",
   "pygments_lexer": "ipython3",
   "version": "3.12.3"
  }
 },
 "nbformat": 4,
 "nbformat_minor": 2
}
